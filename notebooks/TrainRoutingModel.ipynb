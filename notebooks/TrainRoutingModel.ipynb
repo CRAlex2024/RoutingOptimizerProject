{
 "cells": [
  {
   "cell_type": "code",
   "execution_count": null,
   "id": "3735b1a2-def1-4f68-958a-2be19a547c4f",
   "metadata": {},
   "outputs": [],
   "source": [
    "import pandas as pd\n",
    "import numpy as np\n",
    "\n",
    "# Simulate data for 100 runs of each protocol\n",
    "protocols = ['RIP', 'OSPF', 'EIGRP']\n",
    "data = []\n",
    "\n",
    "for protocol in protocols:\n",
    "    for i in range(100):\n",
    "        latency = np.random.uniform(10, 150) if protocol == 'RIP' else np.random.uniform(5, 100) if protocol == 'OSPF' else np.random.uniform(5, 80)\n",
    "        jitter = np.random.uniform(5, 50) if protocol == 'RIP' else np.random.uniform(2, 40) if protocol == 'OSPF' else np.random.uniform(1, 35)\n",
    "        packet_loss = np.random.uniform(0.1, 1.5) if protocol == 'RIP' else np.random.uniform(0.05, 1.0) if protocol == 'OSPF' else np.random.uniform(0.01, 0.7)\n",
    "        convergence = np.random.uniform(15, 50) if protocol == 'RIP' else np.random.uniform(10, 35) if protocol == 'OSPF' else np.random.uniform(5, 25)\n",
    "        \n",
    "        data.append([latency, jitter, packet_loss, convergence, protocol])\n",
    "\n",
    "# Create DataFrame\n",
    "df = pd.DataFrame(data, columns=['Latency', 'Jitter', 'PacketLoss', 'ConvergenceTime', 'BestProtocol'])\n",
    "df.to_csv('simulated_routing_data.csv', index=False)\n",
    "df.head()\n"
   ]
  },
  {
   "cell_type": "code",
   "execution_count": 2,
   "id": "fbda327f-26eb-4cc4-87af-690022f2dde4",
   "metadata": {},
   "outputs": [
    {
     "name": "stdout",
     "output_type": "stream",
     "text": [
      "Confusion Matrix:\n",
      " [[19  3  0]\n",
      " [ 2 12  2]\n",
      " [ 0  5 17]]\n",
      "\n",
      "Classification Report:\n",
      "               precision    recall  f1-score   support\n",
      "\n",
      "       EIGRP       0.90      0.86      0.88        22\n",
      "        OSPF       0.60      0.75      0.67        16\n",
      "         RIP       0.89      0.77      0.83        22\n",
      "\n",
      "    accuracy                           0.80        60\n",
      "   macro avg       0.80      0.80      0.79        60\n",
      "weighted avg       0.82      0.80      0.81        60\n",
      "\n"
     ]
    }
   ],
   "source": [
    "from sklearn.model_selection import train_test_split\n",
    "from sklearn.tree import DecisionTreeClassifier\n",
    "from sklearn.metrics import classification_report, confusion_matrix\n",
    "import pandas as pd\n",
    "\n",
    "# Load the dataset\n",
    "df = pd.read_csv('simulated_routing_data.csv')\n",
    "\n",
    "# Split features and target\n",
    "X = df[['Latency', 'Jitter', 'PacketLoss', 'ConvergenceTime']]\n",
    "y = df['BestProtocol']\n",
    "\n",
    "# Split into train and test sets (80% train, 20% test)\n",
    "X_train, X_test, y_train, y_test = train_test_split(X, y, test_size=0.2, random_state=42)\n",
    "\n",
    "# Train Decision Tree model\n",
    "model = DecisionTreeClassifier()\n",
    "model.fit(X_train, y_train)\n",
    "\n",
    "# Predict on test set\n",
    "y_pred = model.predict(X_test)\n",
    "\n",
    "# Evaluate model\n",
    "print(\"Confusion Matrix:\\n\", confusion_matrix(y_test, y_pred))\n",
    "print(\"\\nClassification Report:\\n\", classification_report(y_test, y_pred))\n"
   ]
  },
  {
   "cell_type": "code",
   "execution_count": 3,
   "id": "907f8454-a7e5-442f-94c5-1c3599d4d6a6",
   "metadata": {},
   "outputs": [
    {
     "name": "stdout",
     "output_type": "stream",
     "text": [
      "Model saved successfully.\n"
     ]
    }
   ],
   "source": [
    "import joblib\n",
    "\n",
    "joblib.dump(model, 'routing_protocol_model.pkl')\n",
    "print(\"Model saved successfully.\")\n"
   ]
  },
  {
   "cell_type": "code",
   "execution_count": 4,
   "id": "5ea2fe67-7bb2-4faa-88ca-041bfa3da518",
   "metadata": {},
   "outputs": [
    {
     "data": {
      "image/png": "[encoded data removed]",
      "text/plain": [
       "<Figure size 640x480 with 1 Axes>"
      ]
     },
     "metadata": {},
     "output_type": "display_data"
    }
   ],
   "source": [
    "import matplotlib.pyplot as plt\n",
    "\n",
    "features = X.columns\n",
    "importances = model.feature_importances_\n",
    "plt.barh(features, importances)\n",
    "plt.xlabel(\"Feature Importance\")\n",
    "plt.title(\"Decision Tree Feature Importance\")\n",
    "plt.show()\n"
   ]
  },
  {
   "cell_type": "code",
   "execution_count": 9,
   "id": "f9d65bdb-eece-49f1-abf3-2f6da0bf923b",
   "metadata": {},
   "outputs": [
    {
     "name": "stdout",
     "output_type": "stream",
     "text": [
      "Recommended Protocol: OSPF\n"
     ]
    },
    {
     "name": "stderr",
     "output_type": "stream",
     "text": [
      "C:\\Users\\alexg\\AppData\\Local\\Programs\\Python\\Python312\\Lib\\site-packages\\sklearn\\base.py:493: UserWarning: X does not have valid feature names, but DecisionTreeClassifier was fitted with feature names\n",
      "  warnings.warn(\n"
     ]
    }
   ],
   "source": [
    "import joblib\n",
    "import numpy as np\n",
    "\n",
    "# Load the trained model\n",
    "model = joblib.load('routing_protocol_model.pkl')\n",
    "\n",
    "# Define a function to make a prediction\n",
    "def recommend_protocol(latency, jitter, packet_loss, convergence_time):\n",
    "    input_data = np.array([[latency, jitter, packet_loss, convergence_time]])\n",
    "    prediction = model.predict(input_data)\n",
    "    return prediction[0]\n",
    "\n",
    "# Example usage\n",
    "predicted = recommend_protocol(30.2, 15.1, 0.35, 18.0)\n",
    "print(\"Recommended Protocol:\", predicted)\n"
   ]
  },
  {
   "cell_type": "code",
   "execution_count": null,
   "id": "c5a87f72-1828-4d15-9d38-67921446846d",
   "metadata": {},
   "outputs": [],
   "source": []
  },
  {
   "cell_type": "code",
   "execution_count": null,
   "id": "aa493da8-f22e-4d29-a15c-dfb116b6dcef",
   "metadata": {},
   "outputs": [],
   "source": []
  }
 ],
 "metadata": {
  "kernelspec": {
   "display_name": "Python 3 (ipykernel)",
   "language": "python",
   "name": "python3"
  },
  "language_info": {
   "codemirror_mode": {
    "name": "ipython",
    "version": 3
   },
   "file_extension": ".py",
   "mimetype": "text/x-python",
   "name": "python",
   "nbconvert_exporter": "python",
   "pygments_lexer": "ipython3",
   "version": "3.12.1"
  }
 },
 "nbformat": 4,
 "nbformat_minor": 5
}
